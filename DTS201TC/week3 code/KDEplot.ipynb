{
 "cells": [
  {
   "cell_type": "markdown",
   "metadata": {},
   "source": [
    "# Seaborn: KDEplot"
   ]
  },
  {
   "cell_type": "code",
   "execution_count": null,
   "metadata": {},
   "outputs": [],
   "source": [
    "from matplotlib import pyplot as plt\n",
    "import seaborn as sns"
   ]
  },
  {
   "cell_type": "code",
   "execution_count": null,
   "metadata": {},
   "outputs": [],
   "source": [
    "cars = sns.load_dataset('mpg').dropna()\n",
    "\n",
    "cars.shape"
   ]
  },
  {
   "cell_type": "code",
   "execution_count": null,
   "metadata": {},
   "outputs": [],
   "source": [
    "cars.head()"
   ]
  },
  {
   "cell_type": "markdown",
   "metadata": {},
   "source": [
    "## Intro Visuals"
   ]
  },
  {
   "cell_type": "code",
   "execution_count": null,
   "metadata": {},
   "outputs": [],
   "source": [
    "hp = cars.horsepower"
   ]
  },
  {
   "cell_type": "code",
   "execution_count": null,
   "metadata": {},
   "outputs": [],
   "source": [
    "sns.set_style('white')\n",
    "plt.rc('xtick', labelsize=14)\n",
    "plt.rc('ytick', labelsize=14)"
   ]
  },
  {
   "cell_type": "code",
   "execution_count": null,
   "metadata": {},
   "outputs": [],
   "source": [
    "plt.figure(figsize=(8,5))\n",
    "sns.distplot(hp, rug=True, kde=False, hist=False)\n",
    "\n",
    "sns.despine(left=True)\n",
    "plt.xlim(0, 280)\n",
    "plt.xlabel('')\n",
    "plt.yticks([])\n",
    "plt.tight_layout();"
   ]
  },
  {
   "cell_type": "code",
   "execution_count": null,
   "metadata": {},
   "outputs": [],
   "source": [
    "plt.figure(figsize=(8,5))\n",
    "sns.distplot(hp, kde=False)\n",
    "\n",
    "sns.despine(left=True)\n",
    "plt.xlim(0, 280)\n",
    "plt.xlabel('')\n",
    "plt.yticks([])\n",
    "plt.tight_layout();"
   ]
  },
  {
   "cell_type": "code",
   "execution_count": null,
   "metadata": {},
   "outputs": [],
   "source": [
    "plt.figure(figsize=(8,5))\n",
    "sns.distplot(hp, kde_kws={\"lw\": 5}, hist_kws={'alpha': 0.25})\n",
    "\n",
    "sns.despine(left=True)\n",
    "plt.xlim(0, 280)\n",
    "plt.xlabel('')\n",
    "plt.yticks([])\n",
    "plt.tight_layout();"
   ]
  },
  {
   "cell_type": "markdown",
   "metadata": {},
   "source": [
    "## \"How It Works\" Visuals"
   ]
  },
  {
   "cell_type": "code",
   "execution_count": null,
   "metadata": {},
   "outputs": [],
   "source": [
    "import numpy as np\n",
    "import scipy.stats as stats"
   ]
  },
  {
   "cell_type": "code",
   "execution_count": null,
   "metadata": {},
   "outputs": [],
   "source": [
    "blue, orange, green, red = sns.color_palette()[:4]"
   ]
  },
  {
   "cell_type": "code",
   "execution_count": null,
   "metadata": {},
   "outputs": [],
   "source": [
    "pts = [1, 3, 3.5, 4, 6, 8]"
   ]
  },
  {
   "cell_type": "code",
   "execution_count": null,
   "metadata": {},
   "outputs": [],
   "source": [
    "plt.figure(figsize=(8, 5))\n",
    "plt.scatter(pts, [0]*len(pts), s=100, zorder=1)\n",
    "plt.axhline(0, color='gray', zorder=0)\n",
    "plt.ylim(-0.1, 1.5)\n",
    "plt.xlim(-3, 12)\n",
    "plt.box(False)\n",
    "plt.xticks(range(9))\n",
    "plt.yticks([])\n",
    "plt.tight_layout();"
   ]
  },
  {
   "cell_type": "code",
   "execution_count": null,
   "metadata": {},
   "outputs": [],
   "source": [
    "for i in range(len(pts)):\n",
    "    plt.figure(figsize=(8, 5))\n",
    "    for point in pts[0:i+1]:\n",
    "        mu = point\n",
    "        variance = 1\n",
    "        sigma = np.sqrt(variance)\n",
    "        x = np.linspace(mu - 3*sigma, mu + 3*sigma, 100)\n",
    "        plt.plot(x, stats.norm.pdf(x, mu, sigma), linestyle='--', color='gray', zorder=2)\n",
    "    plt.scatter(pts, [0]*len(pts), s=100, zorder=1)\n",
    "    plt.axhline(0, color='gray', zorder=0)\n",
    "    plt.xlim(-3, 12)\n",
    "    plt.ylim(-0.1, 1.5)\n",
    "    plt.box(False)\n",
    "    plt.xticks(range(9))\n",
    "    plt.yticks([])\n",
    "    plt.tight_layout();\n",
    "    #plt.savefig(f'02KDE_kernel{i}.svg');"
   ]
  },
  {
   "cell_type": "code",
   "execution_count": null,
   "metadata": {},
   "outputs": [],
   "source": [
    "for i in range(1, len(pts)+1):\n",
    "    plt.figure(figsize=(8, 5))\n",
    "    for point in pts[0:len(pts)+1]:\n",
    "        mu = point\n",
    "        variance = 1\n",
    "        sigma = np.sqrt(variance)\n",
    "        x = np.linspace(mu - 3*sigma, mu + 3*sigma, 100)\n",
    "        plt.plot(x, stats.norm.pdf(x, mu, sigma), linestyle='--', color='gray', zorder=2)\n",
    "    plt.scatter(pts, [0]*len(pts), s=100, zorder=1)\n",
    "    plt.axhline(0, color='gray', zorder=0)\n",
    "\n",
    "    total_x = np.linspace(pts[0] - 3*sigma, pts[i-1] + 3*sigma, 1000)\n",
    "    total = sum([stats.norm.pdf(total_x, pts[j], sigma) for j in range(i)])\n",
    "    plt.plot(total_x, total, color=blue, lw=3)\n",
    "    plt.xlim(-3, 12)\n",
    "    plt.ylim(-0.1, 1.5)\n",
    "    plt.box(False)\n",
    "    plt.xticks(range(9))\n",
    "    plt.yticks([])\n",
    "    plt.tight_layout();\n",
    "    #plt.savefig(f'02KDE_addkernel{i}.svg');"
   ]
  },
  {
   "cell_type": "code",
   "execution_count": null,
   "metadata": {},
   "outputs": [],
   "source": [
    "plt.figure(figsize=(8,5))\n",
    "plt.plot(total_x, total, color=blue, lw=3)\n",
    "plt.scatter(pts, [0]*len(pts), s=100, zorder=1, alpha=0.5)\n",
    "plt.axhline(0, color='gray', zorder=0)\n",
    "plt.xlim(-3, 12)\n",
    "plt.ylim(-0.1, 1.5)\n",
    "plt.box(False)\n",
    "plt.xticks(range(9))\n",
    "plt.yticks([])\n",
    "plt.tight_layout();"
   ]
  },
  {
   "cell_type": "markdown",
   "metadata": {},
   "source": [
    "### Other Kernels"
   ]
  },
  {
   "cell_type": "code",
   "execution_count": null,
   "metadata": {},
   "outputs": [],
   "source": [
    "plt.figure(figsize=(8, 5))\n",
    "\n",
    "mu = pts[3]\n",
    "variance = 1\n",
    "sigma = np.sqrt(variance)\n",
    "x = np.linspace(mu - 3*sigma, mu + 3*sigma, 100)\n",
    "plt.plot(x, stats.norm.pdf(x, mu, sigma), linestyle='--', color='gray', zorder=2)\n",
    "\n",
    "plt.scatter(pts[3], [0], s=200, zorder=1)\n",
    "plt.axhline(0, color='gray', zorder=0)\n",
    "plt.ylim(-0.1, .5)\n",
    "plt.box(False)\n",
    "plt.xticks([])\n",
    "plt.yticks([])\n",
    "plt.tight_layout();"
   ]
  },
  {
   "cell_type": "code",
   "execution_count": null,
   "metadata": {},
   "outputs": [],
   "source": [
    "plt.figure(figsize=(8, 5))\n",
    "\n",
    "def build_tri_kernel(x, center=0, sigma=1):\n",
    "    m = 0.4/sigma\n",
    "    if x < (center-sigma):\n",
    "        return 0\n",
    "    elif x < center:\n",
    "        return m*x + m*(sigma-center)\n",
    "    elif x < (center+sigma):\n",
    "        return -m*x + m*(sigma + center)\n",
    "    else:\n",
    "        return 0  \n",
    "\n",
    "mu = pts[3]\n",
    "variance = 1\n",
    "sigma = np.sqrt(variance)\n",
    "x = np.linspace(mu - 3*sigma, mu + 3*sigma, 100)\n",
    "plt.plot(x, [build_tri_kernel(val, center=mu, sigma=1.5) for val in x], \n",
    "         linestyle='--', color='gray', zorder=2)\n",
    "plt.scatter(pts[3], [0], s=200, zorder=1)\n",
    "plt.axhline(0, color='gray', zorder=0)\n",
    "plt.ylim(-0.1, .5)\n",
    "plt.box(False)\n",
    "plt.xticks([])\n",
    "plt.yticks([])\n",
    "plt.tight_layout();"
   ]
  },
  {
   "cell_type": "code",
   "execution_count": null,
   "metadata": {},
   "outputs": [],
   "source": [
    "plt.figure(figsize=(8, 5))\n",
    "\n",
    "def build_cos_kernel(x, center=0, sigma=1):\n",
    "    if np.abs(x - center) < sigma:\n",
    "        return 0.4*np.cos(x-center)\n",
    "    else:\n",
    "        return 0  \n",
    "\n",
    "mu = pts[3]\n",
    "variance = 1\n",
    "sigma = np.sqrt(variance)\n",
    "x = np.linspace(mu - 3*sigma, mu + 3*sigma, 100)\n",
    "plt.plot(x, [build_cos_kernel(val, center=mu, sigma=1.5) for val in x], \n",
    "         linestyle='--', color='gray', zorder=2)\n",
    "plt.scatter(pts[3], [0], s=200, zorder=1)\n",
    "plt.axhline(0, color='gray', zorder=0)\n",
    "plt.ylim(-0.1, .5)\n",
    "plt.box(False)\n",
    "plt.xticks([])\n",
    "plt.yticks([])\n",
    "plt.tight_layout();"
   ]
  },
  {
   "cell_type": "markdown",
   "metadata": {},
   "source": [
    "## Univariate (1D)"
   ]
  },
  {
   "cell_type": "code",
   "execution_count": null,
   "metadata": {},
   "outputs": [],
   "source": [
    "sns.kdeplot(cars.horsepower);"
   ]
  },
  {
   "cell_type": "code",
   "execution_count": null,
   "metadata": {},
   "outputs": [],
   "source": [
    "sns.kdeplot(cars.horsepower, shade=True);"
   ]
  },
  {
   "cell_type": "code",
   "execution_count": null,
   "metadata": {},
   "outputs": [],
   "source": [
    "sns.kdeplot(cars.horsepower, bw_method=20);"
   ]
  },
  {
   "cell_type": "code",
   "execution_count": null,
   "metadata": {},
   "outputs": [],
   "source": [
    "sns.kdeplot(cars.horsepower, cumulative=True);"
   ]
  },
  {
   "cell_type": "markdown",
   "metadata": {},
   "source": [
    "### Bandwidth Widget"
   ]
  },
  {
   "cell_type": "code",
   "execution_count": null,
   "metadata": {},
   "outputs": [],
   "source": [
    "from ipywidgets import interact, interactive, HBox, VBox, interactive_output\n",
    "\n",
    "from IPython.display import display"
   ]
  },
  {
   "cell_type": "code",
   "execution_count": null,
   "metadata": {},
   "outputs": [],
   "source": [
    "def bandwidth_widget(bw_method=10):\n",
    "    sns.kdeplot(cars.horsepower, bw_method=bw_method, lw=3, shade=True)\n",
    "    plt.xlim(-30, 300)\n",
    "    plt.ylim(0, 0.03)"
   ]
  },
  {
   "cell_type": "code",
   "execution_count": null,
   "metadata": {},
   "outputs": [],
   "source": [
    "interactive(bandwidth_widget, bw_method=(1, 30, 1))"
   ]
  },
  {
   "cell_type": "markdown",
   "metadata": {},
   "source": [
    "## Bivariate (2D)"
   ]
  },
  {
   "cell_type": "markdown",
   "metadata": {},
   "source": [
    "### Bivariate Intro"
   ]
  },
  {
   "cell_type": "code",
   "execution_count": null,
   "metadata": {},
   "outputs": [],
   "source": [
    "sns.set_style('darkgrid')"
   ]
  },
  {
   "cell_type": "code",
   "execution_count": null,
   "metadata": {},
   "outputs": [],
   "source": [
    "#sns.kdeplot(cars.horsepower, cars.mpg)\n",
    "sns.scatterplot(cars.horsepower, cars.mpg, color='black', alpha=0.7, s=20)\n",
    "plt.xlim(0, 260)\n",
    "plt.ylim(0, 55)\n",
    "plt.xlabel('Horsepower', fontsize=16)\n",
    "plt.ylabel('MPG', fontsize=16)\n",
    "plt.tight_layout();"
   ]
  },
  {
   "cell_type": "code",
   "execution_count": null,
   "metadata": {},
   "outputs": [],
   "source": [
    "sns.kdeplot(cars.horsepower, cars.mpg)\n",
    "sns.scatterplot(cars.horsepower, cars.mpg, color='black', alpha=0.7, s=20, zorder=10)\n",
    "plt.xlim(0, 260)\n",
    "plt.ylim(0, 55)\n",
    "plt.xlabel('Horsepower', fontsize=14)\n",
    "plt.ylabel('MPG', fontsize=14)\n",
    "plt.tight_layout();"
   ]
  },
  {
   "cell_type": "code",
   "execution_count": null,
   "metadata": {},
   "outputs": [],
   "source": [
    "sns.kdeplot(cars.horsepower, cars.mpg)\n",
    "#sns.scatterplot(cars.horsepower, cars.mpg, color='black', alpha=0.7, s=20, zorder=10)\n",
    "plt.xlim(0, 260)\n",
    "plt.ylim(0, 55)\n",
    "plt.xlabel('Horsepower', fontsize=14)\n",
    "plt.ylabel('MPG', fontsize=14)\n",
    "plt.tight_layout();"
   ]
  },
  {
   "cell_type": "markdown",
   "metadata": {},
   "source": [
    "### Bivariate Demo"
   ]
  },
  {
   "cell_type": "code",
   "execution_count": null,
   "metadata": {},
   "outputs": [],
   "source": [
    "sns.kdeplot(cars.horsepower, cars.mpg);"
   ]
  },
  {
   "cell_type": "code",
   "execution_count": null,
   "metadata": {},
   "outputs": [],
   "source": [
    "sns.kdeplot(cars.horsepower, cars.mpg, n_levels=20);"
   ]
  },
  {
   "cell_type": "code",
   "execution_count": null,
   "metadata": {},
   "outputs": [],
   "source": [
    "sns.kdeplot(cars.horsepower, cars.mpg, shade=True);"
   ]
  },
  {
   "cell_type": "code",
   "execution_count": null,
   "metadata": {},
   "outputs": [],
   "source": [
    "sns.set_style('whitegrid')\n",
    "\n",
    "sns.kdeplot(cars.horsepower, cars.mpg, \n",
    "            shade=True,\n",
    "            shade_lowest=False\n",
    "           );"
   ]
  },
  {
   "cell_type": "code",
   "execution_count": null,
   "metadata": {},
   "outputs": [],
   "source": [
    "sns.kdeplot(cars.horsepower, cars.mpg, \n",
    "            shade=True, \n",
    "            shade_lowest=False,\n",
    "            cbar=True\n",
    "           );"
   ]
  },
  {
   "cell_type": "markdown",
   "metadata": {},
   "source": [
    "## Bivariate KDEplot by Category"
   ]
  },
  {
   "cell_type": "code",
   "execution_count": null,
   "metadata": {},
   "outputs": [],
   "source": [
    "sns.set_style('whitegrid')\n",
    "\n",
    "cyl_4 = cars[cars.cylinders==4]\n",
    "cyl_8 = cars[cars.cylinders==8]\n",
    "\n",
    "plt.figure(figsize=(8,6))\n",
    "\n",
    "sns.kdeplot(cyl_4.horsepower, cyl_4.mpg,\n",
    "            cmap=\"Blues\", shade=True, shade_lowest=False)\n",
    "sns.kdeplot(cyl_8.horsepower, cyl_8.mpg,\n",
    "            cmap=\"Reds\", shade=True, shade_lowest=False)\n",
    "\n",
    "plt.xlabel('Horsepower', fontsize=14)\n",
    "plt.ylabel('Miles per Gallon (MPG)', fontsize=14)\n",
    "\n",
    "plt.annotate(\"4 Cylinders\", (105, 32), color=blue, fontsize=16, fontweight='bold')\n",
    "plt.annotate(\"8 Cylinders\", (190, 18), color=red, fontsize=16, fontweight='bold');"
   ]
  },
  {
   "cell_type": "markdown",
   "metadata": {},
   "source": [
    "## Other Figures that use KDE"
   ]
  },
  {
   "cell_type": "code",
   "execution_count": null,
   "metadata": {},
   "outputs": [],
   "source": [
    "plt.figure(figsize=(8,5))\n",
    "sns.distplot(hp, kde_kws={\"lw\": 5}, hist_kws={'alpha': 0.25})\n",
    "\n",
    "sns.despine(left=True)\n",
    "plt.xlim(0, 280)\n",
    "plt.xlabel('')\n",
    "plt.yticks([])\n",
    "plt.tight_layout();"
   ]
  },
  {
   "cell_type": "code",
   "execution_count": null,
   "metadata": {},
   "outputs": [],
   "source": [
    "sns.pairplot(cars[cars.cylinders.isin([4,6,8])], \n",
    "             hue='cylinders', \n",
    "             vars=['mpg', 'horsepower', 'acceleration'], \n",
    "             palette='inferno_r'\n",
    "            );"
   ]
  },
  {
   "cell_type": "code",
   "execution_count": null,
   "metadata": {},
   "outputs": [],
   "source": []
  },
  {
   "cell_type": "code",
   "execution_count": null,
   "metadata": {},
   "outputs": [],
   "source": []
  }
 ],
 "metadata": {
  "kernelspec": {
   "display_name": "Python 3 (ipykernel)",
   "language": "python",
   "name": "python3"
  },
  "language_info": {
   "codemirror_mode": {
    "name": "ipython",
    "version": 3
   },
   "file_extension": ".py",
   "mimetype": "text/x-python",
   "name": "python",
   "nbconvert_exporter": "python",
   "pygments_lexer": "ipython3",
   "version": "3.9.7"
  }
 },
 "nbformat": 4,
 "nbformat_minor": 4
}
