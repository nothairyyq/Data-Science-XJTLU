{
 "cells": [
  {
   "cell_type": "markdown",
   "metadata": {},
   "source": [
    "# Week1 day4 A"
   ]
  },
  {
   "cell_type": "markdown",
   "metadata": {},
   "source": [
    "## Multivariate Gaussian Classifier"
   ]
  },
  {
   "cell_type": "markdown",
   "metadata": {},
   "source": [
    "### task1a: load dataset\n",
    "trainA.dat, trainB.dat,...."
   ]
  },
  {
   "cell_type": "code",
   "execution_count": 109,
   "metadata": {},
   "outputs": [],
   "source": [
    "import numpy as np\n",
    "# TODO\n",
    "TrainA = np.loadtxt('./dataW1D4/trainA.dat')\n",
    "TrainB = np.loadtxt('./dataW1D4/trainB.dat')\n",
    "TrainC = np.loadtxt('./dataW1D4/trainC.dat')\n",
    "TestA = np.loadtxt('./dataW1D4/testA.dat')\n",
    "TestB = np.loadtxt('./dataW1D4/testB.dat')\n",
    "TestC = np.loadtxt('./dataW1D4/testC.dat')\n",
    "TrainA2=np.fromfile"
   ]
  },
  {
   "cell_type": "markdown",
   "metadata": {},
   "source": [
    "#### Q: How many points from each class for training and how many for testing? How many features?\n",
    "训练集里有400个数据，测试集有200个数据。\n",
    "特征有两个"
   ]
  },
  {
   "cell_type": "code",
   "execution_count": 110,
   "metadata": {},
   "outputs": [
    {
     "name": "stdout",
     "output_type": "stream",
     "text": [
      "train A: (200, 2)\n",
      "train B: (200, 2)\n",
      "train C: (200, 2)\n",
      "test A: (100, 2)\n",
      "test B: (100, 2)\n",
      "test C: (100, 2)\n"
     ]
    }
   ],
   "source": [
    "print('train A:', TrainA.shape)\n",
    "print('train B:', TrainB.shape)\n",
    "print('train C:', TrainC.shape)\n",
    "print('test A:', TestA.shape)\n",
    "print('test B:', TestB.shape)\n",
    "print('test C:', TestC.shape)"
   ]
  },
  {
   "cell_type": "markdown",
   "metadata": {},
   "source": [
    "### task1b: plot scatters"
   ]
  },
  {
   "cell_type": "code",
   "execution_count": 111,
   "metadata": {},
   "outputs": [],
   "source": [
    "import matplotlib.pyplot as plt\n",
    "import numpy as np"
   ]
  },
  {
   "cell_type": "code",
   "execution_count": 112,
   "id": "5bf133c7",
   "metadata": {},
   "outputs": [
    {
     "data": {
      "text/plain": [
       "array([[-2.3482615e+00, -2.8524522e+00],\n",
       "       [-2.2061087e+00, -3.4048884e+00],\n",
       "       [-3.6532267e+00, -3.1857296e-01],\n",
       "       [-2.0311284e+00,  1.3771551e+00],\n",
       "       [-1.1256233e+00,  1.2039332e+00],\n",
       "       [ 6.3873155e-01,  1.2542087e+00],\n",
       "       [-1.8842116e+00, -2.3819456e+00],\n",
       "       [ 2.7404767e-01, -1.2888815e+00],\n",
       "       [-2.5383434e+00, -2.1685614e+00],\n",
       "       [-3.8378952e+00, -2.0026716e+00],\n",
       "       [-3.0238316e+00, -2.6118581e+00],\n",
       "       [-2.7990074e+00, -2.2755202e+00],\n",
       "       [-1.1208342e+00, -6.0650338e-01],\n",
       "       [-3.8886415e+00, -1.3373045e+00],\n",
       "       [-2.1741011e+00, -3.9302618e+00],\n",
       "       [-3.5596158e+00, -1.6129454e+00],\n",
       "       [-5.8935788e+00,  1.7429752e+00],\n",
       "       [-1.6435943e+00, -2.0760193e+00],\n",
       "       [-3.2136048e+00, -1.3317680e+00],\n",
       "       [-3.9435363e-01, -4.9416124e+00],\n",
       "       [-2.4213050e+00, -3.1348979e+00],\n",
       "       [-3.6752985e-01, -2.6460031e+00],\n",
       "       [-5.2062570e-01, -1.7258449e+00],\n",
       "       [ 1.0078543e+00, -7.4202106e-01],\n",
       "       [-2.9274039e+00, -4.2509604e+00],\n",
       "       [-3.6155525e+00, -2.4553430e+00],\n",
       "       [-6.5785640e-01, -2.9953201e+00],\n",
       "       [-2.5722025e+00, -3.0525801e+00],\n",
       "       [-2.5435235e+00, -1.4749206e+00],\n",
       "       [-1.3183204e+00,  3.2614765e-02],\n",
       "       [-1.3724083e+00, -1.3495844e+00],\n",
       "       [-1.4610430e+00, -1.0655751e+00],\n",
       "       [-4.4104393e-01, -4.0990374e-01],\n",
       "       [-7.8880123e-01, -6.1490257e-01],\n",
       "       [-3.6666632e+00, -3.8617146e+00],\n",
       "       [-1.4315291e+00, -2.0328259e+00],\n",
       "       [-2.8262227e+00, -1.8097222e+00],\n",
       "       [-3.3852026e+00,  1.4056033e+00],\n",
       "       [-1.8372152e+00, -7.2479717e-01],\n",
       "       [-1.9031675e+00, -1.8922579e+00],\n",
       "       [-2.7493923e+00, -1.4884186e+00],\n",
       "       [-1.2347524e+00, -4.9113978e+00],\n",
       "       [-1.0359024e+00, -5.2979920e+00],\n",
       "       [-1.2383548e+00, -2.5245386e+00],\n",
       "       [-2.7212990e+00, -1.8176849e-01],\n",
       "       [-3.8697469e+00, -1.2122184e+00],\n",
       "       [-2.8636022e+00, -2.2548822e+00],\n",
       "       [-2.7994678e+00, -2.0504530e+00],\n",
       "       [-1.8781302e+00,  7.3566953e-01],\n",
       "       [-1.0220694e+00, -1.5363953e-01],\n",
       "       [ 1.0175794e+00, -2.5031590e+00],\n",
       "       [-2.0040502e+00, -2.4634131e+00],\n",
       "       [-2.1266048e+00, -1.8824991e+00],\n",
       "       [-2.3605988e+00, -1.3871015e+00],\n",
       "       [-3.2363227e+00, -3.7296038e+00],\n",
       "       [-1.4018896e+00, -5.8692003e+00],\n",
       "       [-2.1886551e+00, -2.7566440e+00],\n",
       "       [-1.2369208e+00,  1.1240043e+00],\n",
       "       [-7.6232134e-01, -2.8566372e+00],\n",
       "       [-3.7688640e+00,  2.9616261e-02],\n",
       "       [-7.7202347e-01, -3.1030634e-01],\n",
       "       [-3.1381678e+00, -9.4903460e-01],\n",
       "       [-3.0644690e+00, -2.1716852e+00],\n",
       "       [-3.0547380e+00, -2.0440669e+00],\n",
       "       [-2.4379165e+00, -3.4184962e+00],\n",
       "       [-4.1522790e+00, -3.4680294e+00],\n",
       "       [-8.3110864e-01, -1.1110480e+00],\n",
       "       [-2.8668949e+00, -7.7273391e-01],\n",
       "       [-6.4273921e-01,  9.2989887e-01],\n",
       "       [ 7.9022569e-01, -2.8406220e+00],\n",
       "       [-1.5828666e+00, -1.1708685e+00],\n",
       "       [-2.5552930e+00,  1.5751811e-01],\n",
       "       [-1.1855168e+00,  1.0308787e+00],\n",
       "       [-3.6142106e+00, -3.0550627e+00],\n",
       "       [-1.9136356e+00, -4.1658526e+00],\n",
       "       [-1.9825802e+00, -2.3015434e+00],\n",
       "       [-2.2377546e+00, -1.3034652e+00],\n",
       "       [-2.9720580e+00, -2.4571846e+00],\n",
       "       [-3.4009907e+00, -8.3719143e-01],\n",
       "       [-2.0703737e+00, -4.0001132e+00],\n",
       "       [-9.8275536e-01, -3.8255621e-01],\n",
       "       [-2.4003121e+00, -6.1545377e-01],\n",
       "       [-4.0152065e+00, -1.3034012e+00],\n",
       "       [-1.3472714e+00, -2.2112766e-01],\n",
       "       [-4.5640864e-01, -1.1598175e+00],\n",
       "       [-3.4768561e+00, -1.3572406e+00],\n",
       "       [-6.0203038e+00, -4.0051416e+00],\n",
       "       [-5.9027777e-01, -3.3009407e+00],\n",
       "       [-1.8917643e+00, -4.0479841e+00],\n",
       "       [-4.6399645e+00, -4.0948076e+00],\n",
       "       [-2.8677812e+00, -1.8624016e+00],\n",
       "       [-3.4628440e-01, -2.3199783e+00],\n",
       "       [-2.8131912e+00, -2.4486167e+00],\n",
       "       [-2.3744766e+00, -1.1033481e+00],\n",
       "       [-1.9933218e+00, -1.9449132e+00],\n",
       "       [-2.0557344e+00, -2.0232332e+00],\n",
       "       [-2.7147329e+00, -1.3642847e+00],\n",
       "       [-3.6374219e+00, -2.7386650e+00],\n",
       "       [-9.9530405e-01, -3.4921332e+00],\n",
       "       [-9.7020925e-01, -2.0676418e+00],\n",
       "       [-7.7404102e-01, -2.7057348e+00],\n",
       "       [ 1.4387583e+00,  3.0160153e-01],\n",
       "       [-1.8441485e+00, -2.3379934e+00],\n",
       "       [-1.9625954e+00, -3.3600111e+00],\n",
       "       [-6.2775488e-01, -2.2159764e+00],\n",
       "       [-2.0074384e+00,  3.8016872e-01],\n",
       "       [-6.6068738e-03,  1.9931217e-01],\n",
       "       [ 4.8597615e-01, -3.4852432e+00],\n",
       "       [-7.4840474e-01, -1.8631861e+00],\n",
       "       [-3.8657751e-01, -1.6441456e+00],\n",
       "       [-1.4297663e+00,  1.1780415e+00],\n",
       "       [-1.7298730e+00, -1.5609432e+00],\n",
       "       [-2.9809362e+00,  8.1652309e-01],\n",
       "       [-1.9843925e+00, -2.1686624e+00],\n",
       "       [-3.5635352e+00, -2.3856962e+00],\n",
       "       [ 6.9828186e-01,  4.2767691e-02],\n",
       "       [-2.2339273e+00, -2.1052363e+00],\n",
       "       [-3.0358120e+00, -2.5126714e+00],\n",
       "       [-3.4011189e+00, -3.0988889e+00],\n",
       "       [-7.3526135e-01, -2.3537126e+00],\n",
       "       [-1.3661117e+00, -2.5921066e+00],\n",
       "       [-7.4245483e-01,  9.4262388e-04],\n",
       "       [-4.8207253e-01, -3.1983916e+00],\n",
       "       [-2.1481169e+00, -1.7650562e+00],\n",
       "       [ 1.8823946e-01, -2.0681512e+00],\n",
       "       [-1.7598184e+00, -6.2104308e+00],\n",
       "       [-8.6290406e-01, -5.7588833e-01],\n",
       "       [-4.4381457e+00, -7.4931271e-01],\n",
       "       [-1.7537387e+00, -2.5739763e+00],\n",
       "       [-2.6845992e+00, -5.7040673e+00],\n",
       "       [-3.0346772e+00, -3.3697923e+00],\n",
       "       [-5.0149684e+00, -1.2146541e+00],\n",
       "       [-4.5602440e+00, -9.2596948e-01],\n",
       "       [-2.0740176e+00, -2.8089978e+00],\n",
       "       [-2.1219227e+00, -3.6227121e-01],\n",
       "       [-3.6825430e+00, -2.4355783e+00],\n",
       "       [-3.0665167e+00, -1.9955157e+00],\n",
       "       [-6.6034662e-01, -3.9884709e+00],\n",
       "       [-2.2582749e+00,  2.9681630e-01],\n",
       "       [-2.0937167e+00, -1.8025470e+00],\n",
       "       [-7.2011158e-01, -4.5691218e+00],\n",
       "       [ 6.2228798e-02, -5.9444551e+00],\n",
       "       [-3.5810682e+00, -1.6288897e+00],\n",
       "       [ 5.6438636e-01, -1.8313945e+00],\n",
       "       [-1.7868029e+00, -1.5300469e+00],\n",
       "       [-2.4002136e+00, -2.6315123e+00],\n",
       "       [ 3.3362530e-01, -1.9925877e+00],\n",
       "       [-1.0575988e+00, -2.2914256e+00],\n",
       "       [-2.4898293e+00, -1.9299333e+00],\n",
       "       [-2.3734116e+00, -6.9049929e-01],\n",
       "       [-2.9112464e+00, -1.5039417e+00],\n",
       "       [-3.2806274e+00, -3.1253736e+00],\n",
       "       [-9.8646229e-01, -2.8799825e+00],\n",
       "       [-2.0103752e+00,  2.2158566e-02],\n",
       "       [-5.9807274e+00, -4.9485016e+00],\n",
       "       [-2.2114895e+00, -1.9523475e+00],\n",
       "       [-1.1832993e+00, -2.0221636e+00],\n",
       "       [-9.3493231e-01, -2.7838958e+00],\n",
       "       [-2.2361523e+00, -3.6455756e+00],\n",
       "       [-2.8228121e+00, -1.8585334e+00],\n",
       "       [-1.4827405e+00, -1.3236390e+00],\n",
       "       [-2.7762893e+00,  5.0976146e-01],\n",
       "       [-1.1815427e+00, -2.6654571e+00],\n",
       "       [-4.7659176e+00, -3.3085371e+00],\n",
       "       [-1.2617718e+00, -1.9978128e+00],\n",
       "       [ 2.6434750e-01, -1.0987227e+00],\n",
       "       [-9.6400475e-01, -4.2188279e+00],\n",
       "       [-1.2140547e+00, -1.0097942e+00],\n",
       "       [-3.1502450e+00, -6.2290299e-01],\n",
       "       [-2.7622251e+00, -2.0996691e+00],\n",
       "       [-1.5038337e-01, -2.0476314e+00],\n",
       "       [-2.6824691e+00, -1.5722454e+00],\n",
       "       [-4.4783343e+00, -2.9286078e+00],\n",
       "       [-3.3103675e+00, -2.0738337e+00],\n",
       "       [-6.9547352e-01, -9.0656978e-01],\n",
       "       [-1.9420153e+00, -2.4523393e+00],\n",
       "       [-1.4150143e+00, -3.5847526e+00],\n",
       "       [-1.1553694e+00,  6.5633500e-02],\n",
       "       [ 7.2132880e-01, -1.4214984e+00],\n",
       "       [-9.9008340e-01, -3.9828254e-01],\n",
       "       [-5.2701386e+00, -1.1938600e+00],\n",
       "       [-4.7373485e-02, -3.2978489e+00],\n",
       "       [-3.3248999e-02,  4.0552094e-01],\n",
       "       [-2.6419170e+00, -2.0350721e+00],\n",
       "       [-2.8885571e+00, -3.0886130e+00],\n",
       "       [-5.5294155e-01, -3.1844412e+00],\n",
       "       [-2.6917069e+00, -2.1297681e+00],\n",
       "       [-2.5690864e+00, -1.1088586e+00],\n",
       "       [-2.0549820e-02, -1.4561765e+00],\n",
       "       [-1.6032267e+00, -2.8625453e+00],\n",
       "       [ 6.5995513e-01, -2.5850272e+00],\n",
       "       [-3.1309089e+00, -4.1878345e-01],\n",
       "       [-2.7929478e+00, -2.9904184e+00],\n",
       "       [ 4.1671351e-01, -2.4950720e+00],\n",
       "       [-2.9118991e+00,  5.6931881e-01],\n",
       "       [-4.0117126e+00, -4.3194576e+00],\n",
       "       [-3.0690561e+00, -1.6081746e+00],\n",
       "       [-1.7772333e+00, -2.9539112e+00],\n",
       "       [-1.4649377e+00, -1.7116475e+00],\n",
       "       [-1.7473298e+00, -1.5108502e-01]])"
      ]
     },
     "execution_count": 112,
     "metadata": {},
     "output_type": "execute_result"
    }
   ],
   "source": [
    "TrainA\n"
   ]
  },
  {
   "cell_type": "code",
   "execution_count": 113,
   "id": "08b9675d",
   "metadata": {},
   "outputs": [
    {
     "data": {
      "text/plain": [
       "array([-2.3482615 , -2.2061087 , -3.6532267 , -2.0311284 , -1.1256233 ,\n",
       "        0.63873155, -1.8842116 ,  0.27404767, -2.5383434 , -3.8378952 ,\n",
       "       -3.0238316 , -2.7990074 , -1.1208342 , -3.8886415 , -2.1741011 ,\n",
       "       -3.5596158 , -5.8935788 , -1.6435943 , -3.2136048 , -0.39435363,\n",
       "       -2.421305  , -0.36752985, -0.5206257 ,  1.0078543 , -2.9274039 ,\n",
       "       -3.6155525 , -0.6578564 , -2.5722025 , -2.5435235 , -1.3183204 ,\n",
       "       -1.3724083 , -1.461043  , -0.44104393, -0.78880123, -3.6666632 ,\n",
       "       -1.4315291 , -2.8262227 , -3.3852026 , -1.8372152 , -1.9031675 ,\n",
       "       -2.7493923 , -1.2347524 , -1.0359024 , -1.2383548 , -2.721299  ,\n",
       "       -3.8697469 , -2.8636022 , -2.7994678 , -1.8781302 , -1.0220694 ,\n",
       "        1.0175794 , -2.0040502 , -2.1266048 , -2.3605988 , -3.2363227 ,\n",
       "       -1.4018896 , -2.1886551 , -1.2369208 , -0.76232134, -3.768864  ,\n",
       "       -0.77202347, -3.1381678 , -3.064469  , -3.054738  , -2.4379165 ,\n",
       "       -4.152279  , -0.83110864, -2.8668949 , -0.64273921,  0.79022569,\n",
       "       -1.5828666 , -2.555293  , -1.1855168 , -3.6142106 , -1.9136356 ,\n",
       "       -1.9825802 , -2.2377546 , -2.972058  , -3.4009907 , -2.0703737 ,\n",
       "       -0.98275536, -2.4003121 , -4.0152065 , -1.3472714 , -0.45640864,\n",
       "       -3.4768561 , -6.0203038 , -0.59027777, -1.8917643 , -4.6399645 ,\n",
       "       -2.8677812 , -0.3462844 , -2.8131912 , -2.3744766 , -1.9933218 ,\n",
       "       -2.0557344 , -2.7147329 , -3.6374219 , -0.99530405, -0.97020925,\n",
       "       -0.77404102,  1.4387583 , -1.8441485 , -1.9625954 , -0.62775488,\n",
       "       -2.0074384 , -0.00660687,  0.48597615, -0.74840474, -0.38657751,\n",
       "       -1.4297663 , -1.729873  , -2.9809362 , -1.9843925 , -3.5635352 ,\n",
       "        0.69828186, -2.2339273 , -3.035812  , -3.4011189 , -0.73526135,\n",
       "       -1.3661117 , -0.74245483, -0.48207253, -2.1481169 ,  0.18823946,\n",
       "       -1.7598184 , -0.86290406, -4.4381457 , -1.7537387 , -2.6845992 ,\n",
       "       -3.0346772 , -5.0149684 , -4.560244  , -2.0740176 , -2.1219227 ,\n",
       "       -3.682543  , -3.0665167 , -0.66034662, -2.2582749 , -2.0937167 ,\n",
       "       -0.72011158,  0.0622288 , -3.5810682 ,  0.56438636, -1.7868029 ,\n",
       "       -2.4002136 ,  0.3336253 , -1.0575988 , -2.4898293 , -2.3734116 ,\n",
       "       -2.9112464 , -3.2806274 , -0.98646229, -2.0103752 , -5.9807274 ,\n",
       "       -2.2114895 , -1.1832993 , -0.93493231, -2.2361523 , -2.8228121 ,\n",
       "       -1.4827405 , -2.7762893 , -1.1815427 , -4.7659176 , -1.2617718 ,\n",
       "        0.2643475 , -0.96400475, -1.2140547 , -3.150245  , -2.7622251 ,\n",
       "       -0.15038337, -2.6824691 , -4.4783343 , -3.3103675 , -0.69547352,\n",
       "       -1.9420153 , -1.4150143 , -1.1553694 ,  0.7213288 , -0.9900834 ,\n",
       "       -5.2701386 , -0.04737348, -0.033249  , -2.641917  , -2.8885571 ,\n",
       "       -0.55294155, -2.6917069 , -2.5690864 , -0.02054982, -1.6032267 ,\n",
       "        0.65995513, -3.1309089 , -2.7929478 ,  0.41671351, -2.9118991 ,\n",
       "       -4.0117126 , -3.0690561 , -1.7772333 , -1.4649377 , -1.7473298 ])"
      ]
     },
     "execution_count": 113,
     "metadata": {},
     "output_type": "execute_result"
    }
   ],
   "source": [
    "TrainA[:,0]\n"
   ]
  },
  {
   "cell_type": "code",
   "execution_count": 114,
   "metadata": {},
   "outputs": [
    {
     "data": {
      "text/plain": [
       "<matplotlib.collections.PathCollection at 0x27372dae610>"
      ]
     },
     "execution_count": 114,
     "metadata": {},
     "output_type": "execute_result"
    },
    {
     "data": {
      "image/png": "[encoded data removed]",
      "text/plain": [
       "<Figure size 432x288 with 1 Axes>"
      ]
     },
     "metadata": {
      "needs_background": "light"
     },
     "output_type": "display_data"
    }
   ],
   "source": [
    "plt.scatter(TrainA[:,0],TrainA[:,1],marker='^',c='r') \n",
    "plt.scatter(TrainB[:,0],TrainB[:,1],marker='o',c='g')\n",
    "plt.scatter(TrainC[:,0],TrainC[:,1],marker='x',c='b')\n",
    "# you can change the color if you dislike them"
   ]
  },
  {
   "cell_type": "code",
   "execution_count": 115,
   "metadata": {},
   "outputs": [
    {
     "data": {
      "text/plain": [
       "<matplotlib.collections.PathCollection at 0x27372e15790>"
      ]
     },
     "execution_count": 115,
     "metadata": {},
     "output_type": "execute_result"
    },
    {
     "data": {
      "image/png": "[encoded data removed]",
      "text/plain": [
       "<Figure size 432x288 with 1 Axes>"
      ]
     },
     "metadata": {
      "needs_background": "light"
     },
     "output_type": "display_data"
    }
   ],
   "source": [
    "plt.scatter(TestA[:,0],TestA[:,1],marker='^',c='r') \n",
    "plt.scatter(TestB[:,0],TestB[:,1],marker='o',c='g')\n",
    "plt.scatter(TestC[:,0],TestC[:,1],marker='x',c='b')"
   ]
  },
  {
   "cell_type": "markdown",
   "metadata": {},
   "source": [
    "### task 2: compute the mean and variance of train data in each class"
   ]
  },
  {
   "cell_type": "markdown",
   "metadata": {},
   "source": [
    "#### $\\mu$ of trainA"
   ]
  },
  {
   "cell_type": "code",
   "execution_count": 116,
   "id": "fb4bd773",
   "metadata": {},
   "outputs": [
    {
     "name": "stdout",
     "output_type": "stream",
     "text": [
      "2.5\n",
      "[2. 3.]\n"
     ]
    }
   ],
   "source": [
    "##mean function examples\n",
    "a=np.array([[1,2],[3,4]])\n",
    "mua=np.mean(a)\n",
    "print(mua)#对矩阵内所有元素求均值\n",
    "mub=np.mean(a,0)#对各列求均值\n",
    "print(mub)"
   ]
  },
  {
   "cell_type": "code",
   "execution_count": 117,
   "metadata": {},
   "outputs": [
    {
     "name": "stdout",
     "output_type": "stream",
     "text": [
      "[-1.97111526 -1.90272101]\n",
      "(2,)\n"
     ]
    }
   ],
   "source": [
    "muA = np.mean(TrainA,0)\n",
    "print(muA)\n",
    "print(muA.shape)"
   ]
  },
  {
   "cell_type": "markdown",
   "metadata": {},
   "source": [
    "#### Question: why is it not **np.mean(trainA,1)**\n",
    "因为对每一列求均值，即第0维度的值，而不是每一行，如果是每一行则产生200个均值。"
   ]
  },
  {
   "cell_type": "code",
   "execution_count": 118,
   "id": "8c8f27a0",
   "metadata": {},
   "outputs": [
    {
     "name": "stdout",
     "output_type": "stream",
     "text": [
      "[-2.60035685 -2.80549855 -1.98589983 -0.32698665  0.03915495  0.94647013\n",
      " -2.1330786  -0.50741691 -2.3534524  -2.9202834  -2.81784485 -2.5372638\n",
      " -0.86366879 -2.612973   -3.05218145 -2.5862806  -2.0753018  -1.8598068\n",
      " -2.2726864  -2.66798302 -2.77810145 -1.50676648 -1.1232353   0.13291662\n",
      " -3.58918215 -3.03544775 -1.82658825 -2.8123913  -2.00922205 -0.64285282\n",
      " -1.36099635 -1.26330905 -0.42547384 -0.7018519  -3.7641889  -1.7321775\n",
      " -2.31797245 -0.98979965 -1.28100618 -1.8977127  -2.11890545 -3.0730751\n",
      " -3.1669472  -1.8814467  -1.45153375 -2.54098265 -2.5592422  -2.4249604\n",
      " -0.57123033 -0.58785446 -0.7427898  -2.23373165 -2.00455195 -1.87385015\n",
      " -3.48296325 -3.63554495 -2.47264955 -0.05645825 -1.80947927 -1.86962387\n",
      " -0.54116491 -2.0436012  -2.6180771  -2.54940245 -2.92820635 -3.8101542\n",
      " -0.97107832 -1.81981441  0.14357983 -1.02519815 -1.37686755 -1.19888744\n",
      " -0.07731905 -3.33463665 -3.0397441  -2.1420618  -1.7706099  -2.7146213\n",
      " -2.11909107 -3.03524345 -0.68265579 -1.50788294 -2.65930385 -0.78419953\n",
      " -0.80811307 -2.41704835 -5.0127227  -1.94560924 -2.9698742  -4.36738605\n",
      " -2.3650914  -1.33313135 -2.63090395 -1.73891235 -1.9691175  -2.0394838\n",
      " -2.0395088  -3.18804345 -2.24371863 -1.51892552 -1.73988791  0.87017992\n",
      " -2.09107095 -2.66130325 -1.42186564 -0.81363484  0.09635265 -1.49963353\n",
      " -1.30579542 -1.01536156 -0.1258624  -1.6454081  -1.08220655 -2.07652745\n",
      " -2.9746157   0.37052478 -2.1695818  -2.7742417  -3.2500039  -1.54448698\n",
      " -1.97910915 -0.3707561  -1.84023206 -1.95658655 -0.93995587 -3.9851246\n",
      " -0.71939619 -2.5937292  -2.1638575  -4.19433325 -3.20223475 -3.11481125\n",
      " -2.74310674 -2.4415077  -1.24209695 -3.05906065 -2.5310162  -2.32440876\n",
      " -0.9807293  -1.94813185 -2.64461669 -2.94111315 -2.60497895 -0.63350407\n",
      " -1.6584249  -2.51586295 -0.8294812  -1.6745122  -2.2098813  -1.53195544\n",
      " -2.20759405 -3.2030005  -1.9332224  -0.99410832 -5.4646145  -2.0819185\n",
      " -1.60273145 -1.85941405 -2.94086395 -2.34067275 -1.40318975 -1.13326392\n",
      " -1.9234999  -4.03722735 -1.6297923  -0.4171876  -2.59141632 -1.11192445\n",
      " -1.886574   -2.4309471  -1.09900739 -2.12735725 -3.70347105 -2.6921006\n",
      " -0.80102165 -2.1971773  -2.49988345 -0.54486795 -0.3500848  -0.69418297\n",
      " -3.2319993  -1.67261119  0.18613597 -2.33849455 -2.98858505 -1.86869138\n",
      " -2.4107375  -1.8389725  -0.73836316 -2.232886   -0.96253603 -1.77484617\n",
      " -2.8916831  -1.03917924 -1.17129014 -4.1655851  -2.33861535 -2.36557225\n",
      " -1.5882926  -0.94920741]\n",
      "(200,)\n"
     ]
    }
   ],
   "source": [
    "muA1=np.mean(TrainA,1)\n",
    "print(muA1)\n",
    "print(muA1.shape)"
   ]
  },
  {
   "cell_type": "code",
   "execution_count": 119,
   "id": "88508f3c",
   "metadata": {},
   "outputs": [
    {
     "name": "stdout",
     "output_type": "stream",
     "text": [
      "[[2. 2.]\n",
      " [2. 2.]]\n",
      "(2, 2)\n",
      "1.0\n",
      "()\n"
     ]
    }
   ],
   "source": [
    "##cov example\n",
    "t=np.array([[1,2],[3,4]])\n",
    "covT=np.cov(t,rowvar=False)\n",
    "print(covT)\n",
    "print(covT.shape)\n",
    "\n",
    "t1=np.array([1,2,3])\n",
    "covT1=np.cov(t1,rowvar=True)\n",
    "print(covT1)\n",
    "print(covT1.shape)"
   ]
  },
  {
   "cell_type": "markdown",
   "id": "2c82c285",
   "metadata": {},
   "source": [
    "#### Question: what if rowvar = True\n",
    "rowvar=false时是按照列向量，本例子中就是(ta1,ta2)"
   ]
  },
  {
   "cell_type": "code",
   "execution_count": 120,
   "metadata": {},
   "outputs": [
    {
     "name": "stdout",
     "output_type": "stream",
     "text": [
      "[[1.98212915 0.11832453]\n",
      " [0.11832453 2.28862765]]\n",
      "(2, 2)\n"
     ]
    }
   ],
   "source": [
    "covA = np.cov(TrainA, rowvar= False) # Question: what if rowvar = True\n",
    "print(covA)\n",
    "print(covA.shape)"
   ]
  },
  {
   "cell_type": "code",
   "execution_count": 121,
   "id": "5b6cda24",
   "metadata": {},
   "outputs": [
    {
     "name": "stdout",
     "output_type": "stream",
     "text": [
      "(200, 200)\n"
     ]
    }
   ],
   "source": [
    "covAt=np.cov(TrainA,rowvar=True)\n",
    "print(covAt.shape)"
   ]
  },
  {
   "cell_type": "code",
   "execution_count": 122,
   "metadata": {},
   "outputs": [],
   "source": [
    "# TODO "
   ]
  },
  {
   "cell_type": "code",
   "execution_count": 123,
   "metadata": {},
   "outputs": [],
   "source": [
    "muB = np.mean(TrainB,0)\n",
    "muC = np.mean(TrainC,0)\n",
    "covB = np.cov(TrainB,rowvar=False)\n",
    "covC = np.cov(TrainC,rowvar=False)"
   ]
  },
  {
   "cell_type": "markdown",
   "metadata": {},
   "source": [
    "#### task3: compute the posterior probabilities"
   ]
  },
  {
   "cell_type": "markdown",
   "metadata": {},
   "source": [
    "you can use : https://docs.scipy.org/doc/scipy/reference/generated/scipy.stats.multivariate_normal.html#scipy.stats.multivariate_normal"
   ]
  },
  {
   "cell_type": "code",
   "execution_count": 124,
   "metadata": {},
   "outputs": [],
   "source": [
    "from scipy.stats import multivariate_normal"
   ]
  },
  {
   "cell_type": "code",
   "execution_count": 125,
   "metadata": {},
   "outputs": [],
   "source": [
    "def cal_multi_normals(x,muA, muB, muC, covA, covB, covC):\n",
    "    '''\n",
    "    compute data x's  probabilitiw of three Gaussian models \n",
    "    '''\n",
    "    ya = multivariate_normal.pdf(x, muA, covA); \n",
    "    yb = multivariate_normal.pdf(x, muB, covB); \n",
    "    yc = multivariate_normal.pdf(x, muC, covC); \n",
    "    y = np.stack((ya,yb,yc),axis=1)\n",
    "    return y\n",
    "\n",
    "yA = cal_multi_normals(TestA, muA, muB, muC, covA, covB, covC)\n",
    "yB = cal_multi_normals(TestB, muA, muB, muC, covA, covB, covC)\n",
    "yC = cal_multi_normals(TestC, muA, muB, muC, covA, covB, covC)"
   ]
  },
  {
   "cell_type": "code",
   "execution_count": 135,
   "id": "8d8d0db8",
   "metadata": {},
   "outputs": [
    {
     "name": "stdout",
     "output_type": "stream",
     "text": [
      "(100,)\n",
      "(100, 3)\n"
     ]
    }
   ],
   "source": [
    "ya = multivariate_normal.pdf(TestA, muA, covA)\n",
    "print(ya.shape)\n",
    "print(yA.shape)"
   ]
  },
  {
   "cell_type": "markdown",
   "metadata": {},
   "source": [
    "#### task 4: assign the data to the class has the maximum posterior probabilities"
   ]
  },
  {
   "cell_type": "code",
   "execution_count": 127,
   "id": "565d214b",
   "metadata": {},
   "outputs": [
    {
     "name": "stdout",
     "output_type": "stream",
     "text": [
      "[0 0 0 0 0 0 0 2 0 1 1 0 0 0 0 0 0 2 1 0 2 0 0 0 0 0 0 0 0 0 0 0 0 0 0 0 0\n",
      " 0 0 0 0 0 0 0 0 2 0 0 1 0 1 0 0 0 0 1 0 0 0 0 0 0 1 0 2 0 0 0 0 0 0 1 0 2\n",
      " 0 0 0 1 0 0 0 0 0 0 0 0 2 2 1 0 0 0 0 0 0 1 2 0 0 0]\n",
      "(100,)\n",
      "80 11 9\n",
      "(array([ 7, 17, 20, 45, 64, 73, 86, 87, 96], dtype=int64),)\n",
      "(1, 9, 2)\n",
      "[[[ 2.2301578  -2.6063982 ]\n",
      "  [ 0.68418388 -3.0804266 ]\n",
      "  [ 3.7110458  -5.3920311 ]\n",
      "  [ 0.34248818 -3.0914984 ]\n",
      "  [ 4.0039507  -1.0531931 ]\n",
      "  [ 1.0078471  -2.1166739 ]\n",
      "  [ 2.1651674  -3.1566452 ]\n",
      "  [ 3.1946882  -1.302157  ]\n",
      "  [-2.0917943  -5.4341647 ]]]\n"
     ]
    }
   ],
   "source": [
    "max=np.argmax(yA,axis=1)\n",
    "print(max)\n",
    "print(max.shape)\n",
    "index_A = np.where(max==0)  # the index which was classified as A\n",
    "index_B = np.where(max==1)  # the index which was classified as B\n",
    "index_C = np.where(max==2)\n",
    "\n",
    "print(np.size(index_A),np.size(index_B),np.size(index_C))\n",
    "print(index_C)\n",
    "result_c=TestC[index_C,:]\n",
    "print(result_c.shape)\n",
    "print(result_c)"
   ]
  },
  {
   "cell_type": "code",
   "execution_count": 128,
   "id": "3404fb87",
   "metadata": {},
   "outputs": [
    {
     "name": "stdout",
     "output_type": "stream",
     "text": [
      "[[ 2.2301578  -2.6063982 ]\n",
      " [ 0.68418388 -3.0804266 ]\n",
      " [ 3.7110458  -5.3920311 ]\n",
      " [ 0.34248818 -3.0914984 ]\n",
      " [ 4.0039507  -1.0531931 ]\n",
      " [ 1.0078471  -2.1166739 ]\n",
      " [ 2.1651674  -3.1566452 ]\n",
      " [ 3.1946882  -1.302157  ]\n",
      " [-2.0917943  -5.4341647 ]]\n"
     ]
    }
   ],
   "source": [
    "t_result_c=result_c.reshape(np.size(index_C),2)\n",
    "print(t_result_c)"
   ]
  },
  {
   "cell_type": "code",
   "execution_count": 129,
   "id": "6b6b9484",
   "metadata": {},
   "outputs": [
    {
     "name": "stdout",
     "output_type": "stream",
     "text": [
      "[[ 0  1]\n",
      " [ 2  3]\n",
      " [ 4  5]\n",
      " [ 6  7]\n",
      " [ 8  9]\n",
      " [10 11]\n",
      " [12 13]\n",
      " [14 15]\n",
      " [16 17]\n",
      " [18 19]]\n",
      "[ 0  2  4  6  8 10 12 14 16 18]\n",
      "[0 1]\n"
     ]
    }
   ],
   "source": [
    "X = np.array([[0, 1], [2, 3], [4, 5], [6, 7], [8, 9], [10, 11], [12, 13], [14, 15], [16, 17], [18, 19]])\n",
    "print(X)\n",
    "print(X[:, 0])\n",
    "print(X[0,:])"
   ]
  },
  {
   "cell_type": "code",
   "execution_count": 130,
   "metadata": {},
   "outputs": [],
   "source": [
    "'''\n",
    "    此函数找到最大的posterior probability\n",
    "\n",
    "Input:\n",
    "    y: three columns of probabilities computed from three Gaussian pdf\n",
    "    test_set\n",
    "Output:\n",
    "    result_A:被分类到A的样本点\n",
    "'''\n",
    "\n",
    "def decision_rule_max_pos(y,test_set):\n",
    "    maximum_class=np.argmax(y,axis=1)\n",
    "    \n",
    "    index_A=np.where(maximum_class==0)\n",
    "    index_B=np.where(maximum_class==1)\n",
    "    index_C=np.where(maximum_class==2)\n",
    "\n",
    "    result_A=test_set[index_A,:].reshape(np.size(index_A),2)\n",
    "    result_B=test_set[index_B,:].reshape(np.size(index_B),2)\n",
    "    result_C=test_set[index_C,:].reshape(np.size(index_C),2)\n",
    "    plt.figure(figsize=(4,4))\n",
    "    plt.scatter(result_A[:,0],result_A[:,1],marker='^',c='r')  \n",
    "    plt.scatter(result_B[:,0],result_B[:,1],marker='o',c='g')  \n",
    "    plt.scatter(result_C[:,0],result_C[:,1],marker='x',c='b')\n",
    "    plt.xlim([-6,6])\n",
    "    plt.ylim([-6,6])\n",
    "    return result_A, result_B, result_C\n"
   ]
  },
  {
   "cell_type": "code",
   "execution_count": 131,
   "metadata": {},
   "outputs": [
    {
     "data": {
      "image/png": "[encoded data removed]",
      "text/plain": [
       "<Figure size 288x288 with 1 Axes>"
      ]
     },
     "metadata": {
      "needs_background": "light"
     },
     "output_type": "display_data"
    },
    {
     "data": {
      "image/png": "[encoded data removed]",
      "text/plain": [
       "<Figure size 288x288 with 1 Axes>"
      ]
     },
     "metadata": {
      "needs_background": "light"
     },
     "output_type": "display_data"
    },
    {
     "data": {
      "image/png": "[encoded data removed]",
      "text/plain": [
       "<Figure size 288x288 with 1 Axes>"
      ]
     },
     "metadata": {
      "needs_background": "light"
     },
     "output_type": "display_data"
    }
   ],
   "source": [
    "a_a,a_b,a_c=decision_rule_max_pos(yA,TestA)\n",
    "b_a,b_b,b_c=decision_rule_max_pos(yB,TestB)\n",
    "c_a,c_b,c_c=decision_rule_max_pos(yC,TestC)"
   ]
  },
  {
   "cell_type": "code",
   "execution_count": 132,
   "metadata": {},
   "outputs": [
    {
     "data": {
      "text/plain": [
       "(-6.0, 6.0)"
      ]
     },
     "execution_count": 132,
     "metadata": {},
     "output_type": "execute_result"
    },
    {
     "data": {
      "image/png": "[encoded data removed]",
      "text/plain": [
       "<Figure size 576x288 with 2 Axes>"
      ]
     },
     "metadata": {
      "needs_background": "light"
     },
     "output_type": "display_data"
    }
   ],
   "source": [
    "fig, axs = plt.subplots(1,2,figsize=(8,4))\n",
    "fig.suptitle('Comparison between the result(left) and the true classes(right)')\n",
    "# result of testA\n",
    "axs[0].scatter(a_a[:,0],a_a[:,1],marker='^',c='r') \n",
    "axs[0].scatter(a_b[:,0],a_b[:,1],marker='o',c='g')\n",
    "axs[0].scatter(a_c[:,0],a_c[:,1],marker='x',c='b')\n",
    "# result of testB\n",
    "axs[0].scatter(b_a[:,0],b_a[:,1],marker='^',c='r') \n",
    "axs[0].scatter(b_b[:,0],b_b[:,1],marker='o',c='g')\n",
    "axs[0].scatter(b_c[:,0],b_c[:,1],marker='x',c='b')\n",
    "# result of testC\n",
    "axs[0].scatter(c_a[:,0],c_a[:,1],marker='^',c='r') \n",
    "axs[0].scatter(c_b[:,0],c_b[:,1],marker='o',c='g')\n",
    "axs[0].scatter(c_c[:,0],c_c[:,1],marker='x',c='b')\n",
    "# plot the true classes\n",
    "axs[1].scatter(TestA[:,0],TestA[:,1],marker='^',c='r') \n",
    "axs[1].scatter(TestB[:,0],TestB[:,1],marker='o',c='g')\n",
    "axs[1].scatter(TestC[:,0],TestC[:,1],marker='x',c='b')\n",
    "axs[0].set_xlim([-6,6])\n",
    "axs[0].set_ylim([-6,6])\n",
    "axs[1].set_xlim([-6,6])\n",
    "axs[1].set_ylim([-6,6])"
   ]
  },
  {
   "cell_type": "code",
   "execution_count": 133,
   "id": "7b3ac86a",
   "metadata": {},
   "outputs": [
    {
     "name": "stdout",
     "output_type": "stream",
     "text": [
      "0.8666666666666667\n"
     ]
    }
   ],
   "source": [
    "##计算精度\n",
    "totalN=TestA.shape[0]+TestB.shape[0]+TestC.shape[0]\n",
    "correctN=a_a.shape[0]+b_b.shape[0]+c_c.shape[0]\n",
    "acc=correctN/totalN\n",
    "print(acc)"
   ]
  },
  {
   "cell_type": "code",
   "execution_count": 134,
   "id": "3678ce8d",
   "metadata": {},
   "outputs": [
    {
     "data": {
      "text/plain": [
       "Text(0.5, 0.92, 'Train A')"
      ]
     },
     "execution_count": 134,
     "metadata": {},
     "output_type": "execute_result"
    },
    {
     "data": {
      "image/png": "[encoded data removed]",
      "text/plain": [
       "<Figure size 1440x720 with 1 Axes>"
      ]
     },
     "metadata": {
      "needs_background": "light"
     },
     "output_type": "display_data"
    }
   ],
   "source": [
    "from matplotlib import cm\n",
    "\n",
    "#把TrainA放在3d图中\n",
    "fig=plt.figure(figsize=(20,10))\n",
    "ax=fig.add_subplot(1,4,1,projection='3d')\n",
    "x,y=TrainA[:,0],TrainA[:,1]\n",
    "z=multivariate_normal.pdf(TrainA,muA,covA)\n",
    "ax.scatter3D(x,y,z,c='g')\n",
    "ax.set_title('Train A')\n"
   ]
  }
 ],
 "metadata": {
  "kernelspec": {
   "display_name": "Python 3",
   "language": "python",
   "name": "python3"
  },
  "language_info": {
   "codemirror_mode": {
    "name": "ipython",
    "version": 3
   },
   "file_extension": ".py",
   "mimetype": "text/x-python",
   "name": "python",
   "nbconvert_exporter": "python",
   "pygments_lexer": "ipython3",
   "version": "3.8.12"
  },
  "toc": {
   "base_numbering": 1,
   "nav_menu": {},
   "number_sections": true,
   "sideBar": true,
   "skip_h1_title": false,
   "title_cell": "Table of Contents",
   "title_sidebar": "Contents",
   "toc_cell": false,
   "toc_position": {},
   "toc_section_display": true,
   "toc_window_display": false
  },
  "varInspector": {
   "cols": {
    "lenName": 16,
    "lenType": 16,
    "lenVar": 40
   },
   "kernels_config": {
    "python": {
     "delete_cmd_postfix": "",
     "delete_cmd_prefix": "del ",
     "library": "var_list.py",
     "varRefreshCmd": "print(var_dic_list())"
    },
    "r": {
     "delete_cmd_postfix": ") ",
     "delete_cmd_prefix": "rm(",
     "library": "var_list.r",
     "varRefreshCmd": "cat(var_dic_list()) "
    }
   },
   "types_to_exclude": [
    "module",
    "function",
    "builtin_function_or_method",
    "instance",
    "_Feature"
   ],
   "window_display": false
  }
 },
 "nbformat": 4,
 "nbformat_minor": 5
}
