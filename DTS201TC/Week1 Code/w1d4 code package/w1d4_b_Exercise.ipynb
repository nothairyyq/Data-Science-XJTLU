{
 "cells": [
  {
   "cell_type": "markdown",
   "id": "9d52d725-01cd-4452-80d0-9d84b461ab0e",
   "metadata": {},
   "source": [
    "# Week1 day4 B"
   ]
  },
  {
   "cell_type": "markdown",
   "id": "709d1bb2-90b8-4dcb-b63a-c99d429d0ec9",
   "metadata": {},
   "source": [
    "## Plot Gassians with python"
   ]
  },
  {
   "cell_type": "markdown",
   "id": "da494228-dcfa-416b-af47-9e92e6fe2a31",
   "metadata": {},
   "source": [
    "Recall that the standard devation (SD) is the square root of the variance. it is a fact that about 0.68 of the probability mass of a Gassian is within 1 SD(either side) of the mean, about 0.95 is within 2 SDs of the mean, and over 0.99 is within 3 SDs of the mean. Thus plotting a Gaussian for x ranging from $\\mu-3\\sigma$ to $\\mu + 3\\sigma$ captures over 99% of the probability mass, and we take these as the ranges for the plot."
   ]
  },
  {
   "cell_type": "markdown",
   "id": "ade522ff-2f63-42d2-9603-a23a5405b3f0",
   "metadata": {},
   "source": [
    "### Before you start"
   ]
  },
  {
   "cell_type": "markdown",
   "id": "3d91856f-c678-4c76-b71f-bf6b4f41867a",
   "metadata": {
    "tags": []
   },
   "source": [
    "#### **hint** spaced numbers over a specified interval"
   ]
  },
  {
   "cell_type": "code",
   "execution_count": null,
   "id": "7108b681-3f5c-45ef-9c2e-89cb5eed5fa2",
   "metadata": {},
   "outputs": [],
   "source": [
    "import numpy as np\n",
    "mu = 0\n",
    "sigma = 1\n",
    "x = np.linspace(mu-3*sigma, mu+3*sigma, 5)\n",
    "x"
   ]
  },
  {
   "cell_type": "code",
   "execution_count": null,
   "id": "e72f30a8-432e-465a-a792-625f34468931",
   "metadata": {},
   "outputs": [],
   "source": []
  },
  {
   "cell_type": "markdown",
   "id": "34edb444-6fca-4255-a5d1-9fa2232803b6",
   "metadata": {
    "tags": []
   },
   "source": [
    "#### **hint** meshgrid: coordinate matrices from coordinate vectors."
   ]
  },
  {
   "cell_type": "code",
   "execution_count": null,
   "id": "7f224ac9-9aa0-4f1a-bcd1-41746430eff9",
   "metadata": {},
   "outputs": [],
   "source": [
    "Nx, Ny = (3, 4)\n",
    "x = np.linspace(0, 1, Nx)\n",
    "y = np.linspace(0, 1, Ny)\n",
    "xv, yv = np.meshgrid(x, y)#, sparse=True)\n",
    "print(xv)\n",
    "print(yv)\n"
   ]
  },
  {
   "cell_type": "code",
   "execution_count": null,
   "id": "14bb5005-4f67-48ce-b165-d67c72ae0e43",
   "metadata": {},
   "outputs": [],
   "source": []
  },
  {
   "cell_type": "markdown",
   "id": "915cbd72-1651-4e67-89be-a0dab2ac4e1f",
   "metadata": {},
   "source": [
    "#### **hint** plot contour"
   ]
  },
  {
   "cell_type": "code",
   "execution_count": null,
   "id": "de9ad2ff-6a36-4a77-adbe-100c59b0efb8",
   "metadata": {},
   "outputs": [],
   "source": [
    "Nx, Ny = (3, 4)\n",
    "x = np.linspace(0, 1, Nx)\n",
    "y = np.linspace(0, 1, Ny)\n",
    "xv, yv = np.meshgrid(x, y, sparse=True)\n",
    "z = np.sin(xv**2 + yv**2) / (xv**2 + yv**2)\n",
    "print(xv.shape)\n",
    "print(yv.shape)\n",
    "print(z.shape)\n",
    "h = plt.contourf(x, y, z)\n",
    "plt.axis('scaled')\n",
    "plt.show()"
   ]
  },
  {
   "cell_type": "code",
   "execution_count": null,
   "id": "43acff9a-676e-47dd-bfcc-936785a9c846",
   "metadata": {},
   "outputs": [],
   "source": []
  },
  {
   "cell_type": "code",
   "execution_count": null,
   "id": "4b938d39-b012-4601-94a7-431670f7927c",
   "metadata": {},
   "outputs": [],
   "source": []
  },
  {
   "cell_type": "code",
   "execution_count": null,
   "id": "f852152a-6781-4ce2-9d0b-472da969f405",
   "metadata": {},
   "outputs": [],
   "source": [
    "Nx, Ny = (100, 100)\n",
    "x = np.linspace(-1, 1, Nx)\n",
    "y = np.linspace(-1, 1, Ny)\n",
    "xv, yv = np.meshgrid(x, y)#, sparse=True)\n",
    "z = np.sin(xv**2 + yv**2) / (xv**2 + yv**2)\n",
    "\n",
    "h = plt.contourf(x, y, z)\n",
    "plt.axis('scaled')\n",
    "plt.show()"
   ]
  },
  {
   "cell_type": "code",
   "execution_count": null,
   "id": "c30cb917-ab19-4837-b9e6-2589ba63ca75",
   "metadata": {},
   "outputs": [],
   "source": []
  },
  {
   "cell_type": "code",
   "execution_count": null,
   "id": "6d8df7b7-d761-4162-b66e-402b4a6ae700",
   "metadata": {},
   "outputs": [],
   "source": [
    "import numpy as np\n",
    "import matplotlib.pyplot as plt"
   ]
  },
  {
   "cell_type": "markdown",
   "id": "e97d9d92-0cc9-46a7-a31a-40c38085d732",
   "metadata": {},
   "source": [
    "The multivariate Gaussian distribution of an n-dimensional vector\n",
    "\n",
    "$x=(x_1,...,x_D)^T$ \n",
    "\n",
    "$\\begin{equation*}\n",
    "    p(x|\\mu, \\Sigma)=\\frac{1}{(2\\pi)^{D/2}|\\Sigma|^{1/2}}exp(-\\frac{1}{2}(x-\\mu)^T\\Sigma^{-1}(x-\\mu))\n",
    "\\end{equation*}   $\n",
    "\n",
    "$\\Sigma$ is the D×D covariance matrix,$\\mu=(\\mu_1,...,\\mu_D)^T$\n",
    "\n",
    "visualize the magnitude of $p(x|\\mu, \\Sigma)$ as a function of all the D dimensions requires a plot in D+1 dimensions"
   ]
  },
  {
   "cell_type": "code",
   "execution_count": null,
   "id": "bd603e87-341c-4d28-b4c1-96c9e2174fbc",
   "metadata": {},
   "outputs": [],
   "source": [
    "def multi_gaussian(grid, mu, Sigma):\n",
    "    \"\"\"\n",
    "    Return the multivariate Gaussian distribution on grid.\n",
    "    grid is an array of variables (x_1, x_2, x_3, ..., x_k) constructed by packing them into a meshgrid\n",
    "    \"\"\"\n",
    "    # TODO\n",
    "    print(grid.shape)\n",
    "     # dimension of variables\n",
    "    det_Sigma =  # determinant of Covariance matrix\n",
    "    inv_Sigma = # invert of the Convariance matrix\n",
    "    denominator =  # the denominator\n",
    "    # T calculates (x-mu)T.Sigma-1.(x-mu) \n",
    "    numerator = \n",
    "\n",
    "    return np.exp(-numerator / 2) / denominator\n"
   ]
  },
  {
   "cell_type": "markdown",
   "id": "c752f9ab-a06a-497b-b816-2bcb2f0d23d7",
   "metadata": {
    "tags": []
   },
   "source": [
    "### **Task:** Plot 2-dimensional Gaussian with \n"
   ]
  },
  {
   "cell_type": "markdown",
   "id": "1216effe-0af2-4a7b-8317-a5f46abf81b2",
   "metadata": {
    "tags": []
   },
   "source": [
    "1. \n",
    "$\\Sigma = \\left[\\begin{array}{cc}\n",
    "    1 & 0 \\\\\n",
    "    0 & 1\n",
    "\\end{array}\\right]$, $ \\mu = (0,0)^T$"
   ]
  },
  {
   "cell_type": "code",
   "execution_count": null,
   "id": "aa3c3eeb-c026-4cdc-ae15-96e0589b4fa9",
   "metadata": {},
   "outputs": [],
   "source": [
    "# TODO\n",
    "N = # number of points\n",
    "X = \n",
    "Y = \n",
    "X, Y = np.meshgrid(X, Y)\n",
    "# Mean vector and covariance matrix\n",
    "mu = np.array([0., 0.])\n",
    "Sigma = np.array([[ 1. , 0], [0,  1]])\n"
   ]
  },
  {
   "cell_type": "code",
   "execution_count": null,
   "id": "48d61143-4e43-436c-b1cb-2ac2f4f37fc8",
   "metadata": {},
   "outputs": [],
   "source": [
    "# Pack X and Y into a single 3-dimensional array\n",
    "pos = np.dstack((X,Y))\n",
    "pos[:, :, 0] = X\n",
    "pos[:, :, 1] = Y\n",
    "\n",
    "# The distribution on the variables X, Y packed into pos.\n",
    "Z = multi_gaussian(pos, mu, Sigma)\n",
    "\n",
    "# Create a surface plot and projected filled contour plot under it.\n",
    "# TODO"
   ]
  },
  {
   "cell_type": "markdown",
   "id": "b60f3ee5-8068-45d1-9199-bf5a0f6b7fa8",
   "metadata": {},
   "source": [
    "2. \n",
    "$\\Sigma = \\left[\\begin{array}{cc}\n",
    "    1 & -1 \\\\\n",
    "    -1 & 4\n",
    "\\end{array}\\right]$,  $ \\mu = (0,0)^T$\n"
   ]
  },
  {
   "cell_type": "code",
   "execution_count": null,
   "id": "bca328a8-8ed9-422a-bae8-e75cf106aece",
   "metadata": {},
   "outputs": [],
   "source": []
  },
  {
   "cell_type": "code",
   "execution_count": null,
   "id": "0bf1e3b8-bfbc-4783-b900-85430858115e",
   "metadata": {},
   "outputs": [],
   "source": []
  },
  {
   "cell_type": "markdown",
   "id": "909d28fe-b663-4901-a545-f566010143c7",
   "metadata": {},
   "source": [
    "3. \n",
    "$\\Sigma = \\left[\\begin{array}{cc}\n",
    "    1 & 0 \\\\\n",
    "    0 & 4\n",
    "\\end{array}\\right]$,  $ \\mu = (0,0)^T$\n"
   ]
  },
  {
   "cell_type": "code",
   "execution_count": null,
   "id": "a2a18d42-b690-4f19-b464-f543330efc43",
   "metadata": {},
   "outputs": [],
   "source": []
  }
 ],
 "metadata": {
  "kernelspec": {
   "display_name": "Python 3 (ipykernel)",
   "language": "python",
   "name": "python3"
  },
  "language_info": {
   "codemirror_mode": {
    "name": "ipython",
    "version": 3
   },
   "file_extension": ".py",
   "mimetype": "text/x-python",
   "name": "python",
   "nbconvert_exporter": "python",
   "pygments_lexer": "ipython3",
   "version": "3.9.7"
  }
 },
 "nbformat": 4,
 "nbformat_minor": 5
}
