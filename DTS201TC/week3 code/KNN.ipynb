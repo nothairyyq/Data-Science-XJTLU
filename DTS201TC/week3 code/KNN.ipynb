{
 "cells": [
  {
   "cell_type": "markdown",
   "id": "105d3160-9d76-4a41-b5d5-878dc519b3f3",
   "metadata": {},
   "source": [
    "# Implementing KNN Algorithm with Scikit-Learn"
   ]
  },
  {
   "cell_type": "markdown",
   "id": "0f4c7388-c6ce-4fa0-a30d-82ff2a6e84a5",
   "metadata": {},
   "source": [
    "We are going to use the famous iris data set for our KNN example. \n",
    "\n",
    "The dataset consists of four attributes: sepal-width, sepal-length, petal-width and petal-length. These are the attributes of specific types of iris plant. \n",
    "The task is to predict the class to which these plants belong. There are three classes in the dataset: Iris-setosa, Iris-versicolor and Iris-virginica. Further details of the dataset are available https://archive.ics.uci.edu/ml/datasets/Iris"
   ]
  },
  {
   "cell_type": "markdown",
   "id": "6dae5a0b-1d34-4ff1-8b7f-8fd7738baaef",
   "metadata": {},
   "source": [
    "### Importing Libraries"
   ]
  },
  {
   "cell_type": "code",
   "execution_count": null,
   "id": "f1201158-39fe-48b1-9805-1c045769d5e4",
   "metadata": {},
   "outputs": [],
   "source": [
    "import numpy as np\n",
    "import matplotlib.pyplot as plt\n",
    "import pandas as pd"
   ]
  },
  {
   "cell_type": "markdown",
   "id": "4242ebe1-4725-45be-a476-d6f7cd313573",
   "metadata": {},
   "source": [
    "### Importing the Dataset"
   ]
  },
  {
   "cell_type": "code",
   "execution_count": null,
   "id": "a48b6e83-451b-461d-9ce3-ae7592d10591",
   "metadata": {},
   "outputs": [],
   "source": [
    "url = \"https://archive.ics.uci.edu/ml/machine-learning-databases/iris/iris.data\"\n",
    "\n",
    "# Assign colum names to the dataset\n",
    "names = ['sepal-length', 'sepal-width', 'petal-length', 'petal-width', 'Class']\n",
    "\n",
    "# Read dataset to pandas dataframe\n",
    "dataset = pd.read_csv(url, names=names)"
   ]
  },
  {
   "cell_type": "code",
   "execution_count": null,
   "id": "a6571e87-4203-4065-88be-2d0f99c0cdd0",
   "metadata": {},
   "outputs": [],
   "source": [
    "dataset.head()"
   ]
  },
  {
   "cell_type": "markdown",
   "id": "697ad2e4-4274-4e6e-94b0-4b37dd8864e8",
   "metadata": {},
   "source": []
  },
  {
   "cell_type": "code",
   "execution_count": null,
   "id": "3d055c61-f76f-4fda-99b9-0d454242903d",
   "metadata": {},
   "outputs": [],
   "source": [
    "# This is a special method in pandas to get the value of the variables with specific index\n",
    "X = dataset.iloc[:, :-1].values\n",
    "y = dataset.iloc[:, 4].values"
   ]
  },
  {
   "cell_type": "markdown",
   "id": "3fe1db78-00bf-43a0-89a3-57217f95772a",
   "metadata": {},
   "source": [
    "Split the dataset into Train Test "
   ]
  },
  {
   "cell_type": "code",
   "execution_count": null,
   "id": "790c6976-2c67-4178-9535-f63224a288b7",
   "metadata": {},
   "outputs": [],
   "source": [
    "from sklearn.model_selection import train_test_split\n",
    "X_train, X_test, y_train, y_test = train_test_split(X, y, test_size=0.20) # 0.2 -> 20% percentage of the dataset is used as test set. This is not fixed, you can change it. \n",
    "# question what the parameter of test_size do we usually choose?"
   ]
  },
  {
   "cell_type": "markdown",
   "id": "ecbc44f0-92a2-4418-929f-312b9a40ff71",
   "metadata": {},
   "source": [
    "### Feature Scaling"
   ]
  },
  {
   "cell_type": "markdown",
   "id": "aac81ff1-efd9-4e8e-959c-7125d890cc48",
   "metadata": {},
   "source": [
    "Since the range of values of raw data varies widely, in some machine learning algorithms, objective functions will not work properly without normalization. For example, the majority of classifiers calculate the distance between two points by the Euclidean distance. If one of the features has a broad range of values, the distance will be governed by this particular feature. Therefore, the range of all features should be normalized so that each feature contributes approximately proportionately to the final distance."
   ]
  },
  {
   "cell_type": "code",
   "execution_count": null,
   "id": "630ef7ea-eb02-4c05-b136-697dd4a451c5",
   "metadata": {},
   "outputs": [],
   "source": [
    "from sklearn.preprocessing import StandardScaler\n",
    "scaler = StandardScaler()\n",
    "scaler.fit(X_train)\n",
    "\n",
    "X_train = scaler.transform(X_train)\n",
    "X_test = scaler.transform(X_test)"
   ]
  },
  {
   "cell_type": "markdown",
   "id": "58fe6ece-eb5b-4fe5-922c-af8edd0351d0",
   "metadata": {},
   "source": [
    "### |Training and Predictions"
   ]
  },
  {
   "cell_type": "code",
   "execution_count": null,
   "id": "dcb9cf53-0f99-4109-8e69-ab3d97540a4f",
   "metadata": {},
   "outputs": [],
   "source": [
    "from sklearn.neighbors import KNeighborsClassifier\n",
    "classifier = KNeighborsClassifier(n_neighbors=5)\n",
    "classifier.fit(X_train, y_train)"
   ]
  },
  {
   "cell_type": "code",
   "execution_count": null,
   "id": "c07380c0-b7ea-4827-b9c0-88d81dd308a5",
   "metadata": {},
   "outputs": [],
   "source": [
    "y_pred = classifier.predict(X_test)"
   ]
  },
  {
   "cell_type": "markdown",
   "id": "ee89030c-3c18-4f5d-8a79-fe29653a6d30",
   "metadata": {},
   "source": [
    "### Evaluating the Algorithm"
   ]
  },
  {
   "cell_type": "code",
   "execution_count": null,
   "id": "80026ace-576d-43b2-8db0-3f7db15c64d1",
   "metadata": {},
   "outputs": [],
   "source": [
    "from sklearn.metrics import classification_report, confusion_matrix\n",
    "print(confusion_matrix(y_test, y_pred))\n",
    "print(classification_report(y_test, y_pred))"
   ]
  },
  {
   "cell_type": "markdown",
   "id": "9871b169-4ceb-4b50-a2de-a91fc74206e2",
   "metadata": {},
   "source": [
    "Question: what is confusion matrix?\n",
    "what is precision? what is recall?"
   ]
  },
  {
   "cell_type": "code",
   "execution_count": null,
   "id": "1ecf8ae0-b1cc-49aa-a668-aaea259e70f0",
   "metadata": {},
   "outputs": [],
   "source": []
  },
  {
   "cell_type": "code",
   "execution_count": null,
   "id": "77576cd6-23bf-4605-90d2-7b81451191ee",
   "metadata": {},
   "outputs": [],
   "source": []
  },
  {
   "cell_type": "markdown",
   "id": "ca1757d6-52a4-48e9-85e2-7980a74c8e9c",
   "metadata": {},
   "source": [
    "### Let's see how the K value impacts the error rate"
   ]
  },
  {
   "cell_type": "code",
   "execution_count": null,
   "id": "28768c52-ac15-4492-afc2-63cbb16656bb",
   "metadata": {},
   "outputs": [],
   "source": [
    "error = []\n",
    "\n",
    "# Calculating error for K values between 1 and 40\n",
    "for i in range(1, 40):\n",
    "    knn = KNeighborsClassifier(n_neighbors=i)\n",
    "    knn.fit(X_train, y_train)\n",
    "    pred_i = knn.predict(X_test)\n",
    "    error.append(np.mean(pred_i != y_test))\n"
   ]
  },
  {
   "cell_type": "code",
   "execution_count": null,
   "id": "b74e66d4-46f2-418f-a720-7098ed42a8fd",
   "metadata": {},
   "outputs": [],
   "source": []
  },
  {
   "cell_type": "code",
   "execution_count": null,
   "id": "1863d2cb-6ffb-4ac9-8a3c-09baa957a08f",
   "metadata": {},
   "outputs": [],
   "source": [
    "plt.figure(figsize=(12, 6))\n",
    "plt.plot(range(1, 40), error, color='red', linestyle='dashed', marker='o',\n",
    "         markerfacecolor='orange', markersize=10)\n",
    "plt.title('Error Rate K Value')\n",
    "plt.xlabel('K Value')\n",
    "plt.ylabel('Mean Error')"
   ]
  },
  {
   "cell_type": "code",
   "execution_count": null,
   "id": "0a067e32-8dd8-4909-92c7-bef1462ea787",
   "metadata": {},
   "outputs": [],
   "source": []
  }
 ],
 "metadata": {
  "kernelspec": {
   "display_name": "Python 3 (ipykernel)",
   "language": "python",
   "name": "python3"
  },
  "language_info": {
   "codemirror_mode": {
    "name": "ipython",
    "version": 3
   },
   "file_extension": ".py",
   "mimetype": "text/x-python",
   "name": "python",
   "nbconvert_exporter": "python",
   "pygments_lexer": "ipython3",
   "version": "3.9.7"
  }
 },
 "nbformat": 4,
 "nbformat_minor": 5
}
