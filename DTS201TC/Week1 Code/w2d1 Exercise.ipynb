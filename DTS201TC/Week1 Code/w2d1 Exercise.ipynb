{
 "cells": [
  {
   "cell_type": "markdown",
   "id": "9bdb1839-7c9a-4234-98e6-e54779d2e3e0",
   "metadata": {
    "tags": []
   },
   "source": [
    "# Week 2 - day 1\n",
    "## **LDA vs QDA**"
   ]
  },
  {
   "cell_type": "markdown",
   "id": "6a0b49d5-8333-487c-a539-85a4a26277f2",
   "metadata": {},
   "source": [
    "Refers to\n",
    "https://scikit-learn.org/stable/auto_examples/classification/plot_lda_qda.html#sphx-glr-auto-examples-classification-plot-lda-qda-py"
   ]
  },
  {
   "cell_type": "markdown",
   "id": "65272f96-ed7e-46c0-815f-1250dbcc3205",
   "metadata": {
    "tags": []
   },
   "source": [
    "load packages"
   ]
  },
  {
   "cell_type": "code",
   "execution_count": null,
   "id": "e13afe32-8959-498f-95ed-f51217be1244",
   "metadata": {},
   "outputs": [],
   "source": [
    "from scipy import linalg\n",
    "import numpy as np\n",
    "import matplotlib.pyplot as plt\n",
    "import matplotlib as mpl\n",
    "from matplotlib import colors\n",
    "\n",
    "from sklearn.discriminant_analysis import LinearDiscriminantAnalysis\n",
    "from sklearn.discriminant_analysis import QuadraticDiscriminantAnalysis\n",
    "plt.rcParams[\"figure.figsize\"] = (10,10)"
   ]
  },
  {
   "cell_type": "code",
   "execution_count": null,
   "id": "b6505261-2c4e-46bb-b3bb-164fa16fc629",
   "metadata": {},
   "outputs": [],
   "source": [
    "# #############################################################################\n",
    "# Colormap\n",
    "cmap = colors.LinearSegmentedColormap(\n",
    "    \"red_blue_classes\",\n",
    "    {\n",
    "        \"red\": [(0, 1, 1), (1, 0.7, 0.7)],\n",
    "        \"green\": [(0, 0.7, 0.7), (1, 0.7, 0.7)],\n",
    "        \"blue\": [(0, 0.7, 0.7), (1, 1, 1)],\n",
    "    },\n",
    ")\n",
    "plt.cm.register_cmap(cmap=cmap)"
   ]
  },
  {
   "cell_type": "code",
   "execution_count": null,
   "id": "2b0a4cfb-c764-4eba-a2f1-c3adfba6b04a",
   "metadata": {},
   "outputs": [],
   "source": [
    "# Plot functions\n",
    "def plot_data(lda, X, y, y_pred, fig_index):\n",
    "    splot = plt.subplot(2, 2, fig_index)\n",
    "    if fig_index == 1:\n",
    "        plt.title(\"Linear Discriminant Analysis\")\n",
    "        plt.ylabel(\"Data with\\n fixed covariance\")\n",
    "    elif fig_index == 2:\n",
    "        plt.title(\"Quadratic Discriminant Analysis\")\n",
    "    elif fig_index == 3:\n",
    "        plt.ylabel(\"Data with\\n varying covariances\")\n",
    "\n",
    "    tp = y == y_pred  # True Positive\n",
    "    tp0, tp1 = tp[y == 0], tp[y == 1]\n",
    "    X0, X1 = X[y == 0], X[y == 1]\n",
    "    X0_tp, X0_fp = X0[tp0], X0[~tp0]\n",
    "    X1_tp, X1_fp = X1[tp1], X1[~tp1]\n",
    "\n",
    "    # class 0: dots\n",
    "    plt.scatter(X0_tp[:, 0], X0_tp[:, 1], marker=\".\", color=\"red\")\n",
    "    plt.scatter(X0_fp[:, 0], X0_fp[:, 1], marker=\"x\", s=20, color=\"#990000\")  # dark red\n",
    "\n",
    "    # class 1: dots\n",
    "    plt.scatter(X1_tp[:, 0], X1_tp[:, 1], marker=\".\", color=\"blue\")\n",
    "    plt.scatter(\n",
    "        X1_fp[:, 0], X1_fp[:, 1], marker=\"x\", s=20, color=\"#000099\"\n",
    "    )  # dark blue\n",
    "\n",
    "    # class 0 and 1 : areas\n",
    "    nx, ny = 200, 100\n",
    "    x_min, x_max = plt.xlim()\n",
    "    y_min, y_max = plt.ylim()\n",
    "    xx, yy = np.meshgrid(np.linspace(x_min, x_max, nx), np.linspace(y_min, y_max, ny))\n",
    "    Z = lda.predict_proba(np.c_[xx.ravel(), yy.ravel()])\n",
    "    Z = Z[:, 1].reshape(xx.shape)\n",
    "    plt.pcolormesh(\n",
    "        xx, yy, Z, cmap=\"red_blue_classes\", norm=colors.Normalize(0.0, 1.0), zorder=0\n",
    "    )\n",
    "    plt.contour(xx, yy, Z, [0.5], linewidths=2.0, colors=\"white\")\n",
    "\n",
    "    # means\n",
    "    plt.plot(\n",
    "        lda.means_[0][0],\n",
    "        lda.means_[0][1],\n",
    "        \"*\",\n",
    "        color=\"yellow\",\n",
    "        markersize=15,\n",
    "        markeredgecolor=\"grey\",\n",
    "    )\n",
    "    plt.plot(\n",
    "        lda.means_[1][0],\n",
    "        lda.means_[1][1],\n",
    "        \"*\",\n",
    "        color=\"yellow\",\n",
    "        markersize=15,\n",
    "        markeredgecolor=\"grey\",\n",
    "    )\n",
    "\n",
    "    return splot\n",
    "\n",
    "def plot_ellipse(splot, mean, cov, color):\n",
    "    v, w = linalg.eigh(cov)\n",
    "    u = w[0] / linalg.norm(w[0])\n",
    "    angle = np.arctan(u[1] / u[0])\n",
    "    angle = 180 * angle / np.pi  # convert to degrees\n",
    "    # filled Gaussian at 2 standard deviation\n",
    "    ell = mpl.patches.Ellipse(\n",
    "        mean,\n",
    "        2 * v[0] ** 0.5,\n",
    "        2 * v[1] ** 0.5,\n",
    "        180 + angle,\n",
    "        facecolor=color,\n",
    "        edgecolor=\"black\",\n",
    "        linewidth=2,\n",
    "    )\n",
    "    ell.set_clip_box(splot.bbox)\n",
    "    ell.set_alpha(0.2)\n",
    "    splot.add_artist(ell)\n",
    "    splot.set_xticks(())\n",
    "    splot.set_yticks(())\n",
    "\n",
    "\n",
    "def plot_lda_cov(lda, splot):\n",
    "    plot_ellipse(splot, lda.means_[0], lda.covariance_, \"red\")\n",
    "    plot_ellipse(splot, lda.means_[1], lda.covariance_, \"blue\")\n",
    "\n",
    "\n",
    "def plot_qda_cov(qda, splot):\n",
    "    plot_ellipse(splot, qda.means_[0], qda.covariance_[0], \"red\")\n",
    "    plot_ellipse(splot, qda.means_[1], qda.covariance_[1], \"blue\")"
   ]
  },
  {
   "cell_type": "code",
   "execution_count": null,
   "id": "2f161251-8335-4120-be32-79379a393098",
   "metadata": {},
   "outputs": [],
   "source": []
  },
  {
   "cell_type": "markdown",
   "id": "b022dbb9-9ed8-4db5-9fc9-d4168bb1ed1e",
   "metadata": {},
   "source": [
    "### TASK"
   ]
  },
  {
   "cell_type": "code",
   "execution_count": null,
   "id": "7fd85aa4-8685-4540-8af4-c89bcef87c68",
   "metadata": {},
   "outputs": [],
   "source": [
    "testA = np.loadtxt( 'w1d4 code package/dataW1D4/testA.dat' )\n",
    "testB = np.loadtxt( 'w1d4 code package/dataW1D4/testB.dat' )\n",
    "testC = np.loadtxt( 'w1d4 code package/dataW1D4/testC.dat' )\n",
    "\n",
    "# muA = np.array([-1.97111526, -1.90272101])\n",
    "# muB = np.array([0.07898355, 0.04684422])\n",
    "# muC = np.array([ 2.09521871, -2.91113325])"
   ]
  },
  {
   "cell_type": "markdown",
   "id": "c09c1f51-3d91-4182-906b-70aba3b5d6b0",
   "metadata": {
    "tags": []
   },
   "source": [
    "### Linear Discriminant Analysis"
   ]
  },
  {
   "cell_type": "markdown",
   "id": "79d867ea-6cd2-4805-adc3-cde5c56a51e6",
   "metadata": {},
   "source": [
    "prepare for the data "
   ]
  },
  {
   "cell_type": "code",
   "execution_count": null,
   "id": "dd151df3-973e-4332-9a9c-c9e76746b96f",
   "metadata": {},
   "outputs": [],
   "source": [
    "X = np.vstack((testA, testB))\n",
    "yA = np.zeros((100,1))\n",
    "yB= np.ones((100,1))\n",
    "y= np.vstack((yA,yB))\n",
    "y = np.squeeze(y)"
   ]
  },
  {
   "cell_type": "markdown",
   "id": "d3a8f820-98ad-4b3b-b47a-2f9d0dcc3cd5",
   "metadata": {},
   "source": [
    "load the model"
   ]
  },
  {
   "cell_type": "code",
   "execution_count": null,
   "id": "0aa9ae3d-d9d3-4029-9472-62f70e6f34f0",
   "metadata": {},
   "outputs": [],
   "source": [
    "# TODO\n",
    "lda = "
   ]
  },
  {
   "cell_type": "markdown",
   "id": "2b62fb5c-92c9-4c77-ad68-b9570974b09f",
   "metadata": {},
   "source": [
    "learn from the demo"
   ]
  },
  {
   "cell_type": "code",
   "execution_count": null,
   "id": "e835e45d-2dc0-4f32-962d-dbd45881067b",
   "metadata": {},
   "outputs": [],
   "source": [
    "# TODO\n",
    "y_pred = \n",
    "splot = \n",
    "plot_lda_cov(lda, splot)\n",
    "plt.axis(\"tight\")"
   ]
  },
  {
   "cell_type": "code",
   "execution_count": null,
   "id": "4887f46d-c4ec-46b6-a9f3-0e4d3cd528d0",
   "metadata": {},
   "outputs": [],
   "source": []
  },
  {
   "cell_type": "markdown",
   "id": "32ac8210-af97-4b00-b07b-9ea55883ae2d",
   "metadata": {},
   "source": [
    "### Quadratic Discriminant Analysis"
   ]
  },
  {
   "cell_type": "code",
   "execution_count": null,
   "id": "3faa01ee-89a5-43ef-893d-ed2b18b45029",
   "metadata": {},
   "outputs": [],
   "source": [
    "# TODO"
   ]
  },
  {
   "cell_type": "code",
   "execution_count": null,
   "id": "4751cd5d-511c-42a2-ad04-178082f97c4b",
   "metadata": {},
   "outputs": [],
   "source": []
  }
 ],
 "metadata": {
  "kernelspec": {
   "display_name": "Python 3 (ipykernel)",
   "language": "python",
   "name": "python3"
  },
  "language_info": {
   "codemirror_mode": {
    "name": "ipython",
    "version": 3
   },
   "file_extension": ".py",
   "mimetype": "text/x-python",
   "name": "python",
   "nbconvert_exporter": "python",
   "pygments_lexer": "ipython3",
   "version": "3.9.7"
  }
 },
 "nbformat": 4,
 "nbformat_minor": 5
}
